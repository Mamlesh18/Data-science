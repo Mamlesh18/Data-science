{
 "cells": [
  {
   "cell_type": "markdown",
   "id": "9c3a8385",
   "metadata": {},
   "source": [
    "# Number Recognition\n",
    "\n",
    "\n",
    "# Import necessary libraries"
   ]
  },
  {
   "cell_type": "code",
   "execution_count": 1,
   "id": "20ea6d30",
   "metadata": {},
   "outputs": [],
   "source": [
    "\n",
    "import tensorflow as tf\n",
    "from tensorflow.keras import layers, models\n",
    "from tensorflow.keras.datasets import mnist\n",
    "from tensorflow.keras.utils import to_categorical\n"
   ]
  },
  {
   "cell_type": "code",
   "execution_count": null,
   "id": "9904ec4f",
   "metadata": {},
   "outputs": [],
   "source": [
    "#  Load and preprocess the MNIST dataset"
   ]
  },
  {
   "cell_type": "code",
   "execution_count": null,
   "id": "eac9ab20",
   "metadata": {},
   "outputs": [],
   "source": [
    "(train_images, train_labels), (test_images, test_labels) = mnist.load_data()\n",
    "train_images = train_images.reshape((60000, 28, 28, 1)).astype('float32') / 255\n",
    "test_images = test_images.reshape((10000, 28, 28, 1)).astype('float32') / 255\n",
    "train_labels = to_categorical(train_labels)\n",
    "test_labels = to_categorical(test_labels)\n"
   ]
  },
  {
   "cell_type": "code",
   "execution_count": null,
   "id": "2cd65acb",
   "metadata": {},
   "outputs": [],
   "source": [
    "# Build a convolutional neural network (CNN)"
   ]
  },
  {
   "cell_type": "code",
   "execution_count": null,
   "id": "3aec9774",
   "metadata": {},
   "outputs": [],
   "source": [
    "model = models.Sequential()\n",
    "model.add(layers.Conv2D(32, (3, 3), activation='relu', input_shape=(28, 28, 1)))\n",
    "model.add(layers.MaxPooling2D((2, 2)))\n",
    "model.add(layers.Conv2D(64, (3, 3), activation='relu'))\n",
    "model.add(layers.MaxPooling2D((2, 2)))\n",
    "model.add(layers.Conv2D(64, (3, 3), activation='relu'))\n",
    "model.add(layers.Flatten())\n",
    "model.add(layers.Dense(64, activation='relu'))\n",
    "model.add(layers.Dense(10, activation='softmax'))\n"
   ]
  },
  {
   "cell_type": "code",
   "execution_count": null,
   "id": "594cf18f",
   "metadata": {},
   "outputs": [],
   "source": [
    "# Compile and train the model"
   ]
  },
  {
   "cell_type": "code",
   "execution_count": null,
   "id": "65b5de23",
   "metadata": {},
   "outputs": [],
   "source": [
    "model.compile(optimizer='adam',\n",
    "              loss='categorical_crossentropy',\n",
    "              metrics=['accuracy'])\n",
    "model.fit(train_images, train_labels, epochs=5, batch_size=64)\n"
   ]
  },
  {
   "cell_type": "code",
   "execution_count": null,
   "id": "d9ac5dfd",
   "metadata": {},
   "outputs": [],
   "source": [
    "# Compile and train the model"
   ]
  },
  {
   "cell_type": "code",
   "execution_count": null,
   "id": "197971f8",
   "metadata": {},
   "outputs": [],
   "source": [
    "test_loss, test_acc = model.evaluate(test_images, test_labels)\n",
    "print(f\"Test accuracy: {test_acc*100:.2f}%\")\n"
   ]
  },
  {
   "cell_type": "code",
   "execution_count": null,
   "id": "5899b939",
   "metadata": {},
   "outputs": [],
   "source": [
    "# Save the model"
   ]
  },
  {
   "cell_type": "code",
   "execution_count": null,
   "id": "71675367",
   "metadata": {},
   "outputs": [],
   "source": [
    "# Save the trained model\n",
    "model.save('mnist_digit_recognition_model.h5')\n"
   ]
  },
  {
   "cell_type": "code",
   "execution_count": null,
   "id": "a22cc6f2",
   "metadata": {},
   "outputs": [],
   "source": [
    "# Predict the Test images"
   ]
  },
  {
   "cell_type": "code",
   "execution_count": null,
   "id": "148a271a",
   "metadata": {},
   "outputs": [],
   "source": [
    "# Select the test images you want to print and predict\n",
    "import matplotlib.pyplot as plt  # Importing pyplot from matplotlib, not just matplotlib\n",
    "import cv2\n",
    "import numpy as np\n",
    "selected_indices = [0, 1, 2, 3, 4]  # Replace with the indices of the test images you want to use\n",
    "\n",
    "# Loop through the selected images and print/predict them\n",
    "for index in selected_indices:\n",
    "    test_image = test_images[index].reshape(1, 28, 28, 1)\n",
    "    prediction = np.argmax(model.predict(test_image))\n",
    "    print(f\"Predicted digit: {prediction}\")\n",
    "\n",
    "    # Display the image\n",
    "    plt.imshow(test_images[index].reshape(28, 28), cmap='gray')\n",
    "    plt.title(f\"Predicted digit: {prediction}\")\n",
    "    plt.show()\n"
   ]
  },
  {
   "cell_type": "code",
   "execution_count": null,
   "id": "a19a938d",
   "metadata": {},
   "outputs": [],
   "source": [
    "# Import necessary libraries"
   ]
  },
  {
   "cell_type": "code",
   "execution_count": null,
   "id": "28d65b7d",
   "metadata": {},
   "outputs": [],
   "source": [
    "import cv2\n",
    "import numpy as np\n"
   ]
  },
  {
   "cell_type": "code",
   "execution_count": null,
   "id": "f712216a",
   "metadata": {},
   "outputs": [],
   "source": [
    "# Load the trained MNIST digit recognition model"
   ]
  },
  {
   "cell_type": "code",
   "execution_count": null,
   "id": "f70c78c6",
   "metadata": {},
   "outputs": [],
   "source": [
    "model = tf.keras.models.load_model('mnist_digit_recognition_model.h5')\n"
   ]
  },
  {
   "cell_type": "code",
   "execution_count": null,
   "id": "1a90b243",
   "metadata": {},
   "outputs": [],
   "source": [
    "# Define a function to recognize digits from camera feed"
   ]
  },
  {
   "cell_type": "code",
   "execution_count": null,
   "id": "33460ada",
   "metadata": {},
   "outputs": [],
   "source": [
    "\n",
    "\n",
    "def recognize_digits():\n",
    "    cap = cv2.VideoCapture(0)\n",
    "\n",
    "    while True:\n",
    "        ret, frame = cap.read()\n",
    "        gray = cv2.cvtColor(frame, cv2.COLOR_BGR2GRAY)\n",
    "        \n",
    "        # Preprocess the frame (resize, threshold, etc.) to match the MNIST input format\n",
    "        resized_frame = cv2.resize(gray, (28, 28))\n",
    "        normalized_frame = resized_frame / 255.0  # Normalize pixel values to [0, 1]\n",
    "        preprocessed_frame = np.expand_dims(normalized_frame, axis=0)  # Add batch dimension\n",
    "        \n",
    "        # Use the trained model to predict the digit\n",
    "        digit = model.predict(preprocessed_frame)\n",
    "        recognized_digit = np.argmax(digit)  # Get the index of the predicted class\n",
    "        \n",
    "        # Display the recognized digit on the frame\n",
    "        cv2.putText(frame, f\"Predicted Digit: {recognized_digit}\", (10, 30),\n",
    "                    cv2.FONT_HERSHEY_SIMPLEX, 1, (0, 255, 0), 2)\n",
    "        \n",
    "        cv2.imshow('Digit Recognition', frame)\n",
    "\n",
    "        if cv2.waitKey(1) & 0xFF == ord('q'):\n",
    "            break\n",
    "\n",
    "    cap.release()\n",
    "    cv2.destroyAllWindows()\n"
   ]
  },
  {
   "cell_type": "code",
   "execution_count": null,
   "id": "b20bbcd9",
   "metadata": {},
   "outputs": [],
   "source": [
    "#  Run the real-time digit recognition function"
   ]
  },
  {
   "cell_type": "code",
   "execution_count": null,
   "id": "12ad35f6",
   "metadata": {},
   "outputs": [],
   "source": [
    "recognize_digits()\n"
   ]
  }
 ],
 "metadata": {
  "kernelspec": {
   "display_name": "Python 3 (ipykernel)",
   "language": "python",
   "name": "python3"
  },
  "language_info": {
   "codemirror_mode": {
    "name": "ipython",
    "version": 3
   },
   "file_extension": ".py",
   "mimetype": "text/x-python",
   "name": "python",
   "nbconvert_exporter": "python",
   "pygments_lexer": "ipython3",
   "version": "3.9.13"
  }
 },
 "nbformat": 4,
 "nbformat_minor": 5
}
