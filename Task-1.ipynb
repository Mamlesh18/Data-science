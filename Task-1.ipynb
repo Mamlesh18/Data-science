{
 "cells": [
  {
   "cell_type": "markdown",
   "id": "40f26448",
   "metadata": {},
   "source": [
    "#  Stock Prediction Using LSTM"
   ]
  },
  {
   "cell_type": "markdown",
   "id": "4c2bc503",
   "metadata": {},
   "source": [
    "# Import the neccessary libraries and Dataset"
   ]
  },
  {
   "cell_type": "code",
   "execution_count": 48,
   "id": "a261e9b0",
   "metadata": {},
   "outputs": [],
   "source": [
    "import numpy as np\n",
    "import pandas as pd\n",
    "import matplotlib.pyplot as plt\n",
    "from sklearn.preprocessing import MinMaxScaler\n",
    "from tensorflow.keras.models import Sequential\n",
    "from tensorflow.keras.layers import LSTM, Dense\n",
    "from tensorflow.keras.optimizers import Adam\n",
    "\n"
   ]
  },
  {
   "cell_type": "code",
   "execution_count": 49,
   "id": "55bbc7ab",
   "metadata": {},
   "outputs": [],
   "source": [
    "url = 'https://raw.githubusercontent.com/mwitiderrick/stockprice/master/NSE-TATAGLOBAL.csv'\n",
    "dataset_train = pd.read_csv(url)\n",
    "training_set = dataset_train.iloc[:, 1:2].values"
   ]
  },
  {
   "cell_type": "code",
   "execution_count": 50,
   "id": "fe7db925",
   "metadata": {},
   "outputs": [
    {
     "data": {
      "text/html": [
       "<div>\n",
       "<style scoped>\n",
       "    .dataframe tbody tr th:only-of-type {\n",
       "        vertical-align: middle;\n",
       "    }\n",
       "\n",
       "    .dataframe tbody tr th {\n",
       "        vertical-align: top;\n",
       "    }\n",
       "\n",
       "    .dataframe thead th {\n",
       "        text-align: right;\n",
       "    }\n",
       "</style>\n",
       "<table border=\"1\" class=\"dataframe\">\n",
       "  <thead>\n",
       "    <tr style=\"text-align: right;\">\n",
       "      <th></th>\n",
       "      <th>Date</th>\n",
       "      <th>Open</th>\n",
       "      <th>High</th>\n",
       "      <th>Low</th>\n",
       "      <th>Last</th>\n",
       "      <th>Close</th>\n",
       "      <th>Total Trade Quantity</th>\n",
       "      <th>Turnover (Lacs)</th>\n",
       "    </tr>\n",
       "  </thead>\n",
       "  <tbody>\n",
       "    <tr>\n",
       "      <th>0</th>\n",
       "      <td>2018-09-28</td>\n",
       "      <td>234.05</td>\n",
       "      <td>235.95</td>\n",
       "      <td>230.20</td>\n",
       "      <td>233.50</td>\n",
       "      <td>233.75</td>\n",
       "      <td>3069914</td>\n",
       "      <td>7162.35</td>\n",
       "    </tr>\n",
       "    <tr>\n",
       "      <th>1</th>\n",
       "      <td>2018-09-27</td>\n",
       "      <td>234.55</td>\n",
       "      <td>236.80</td>\n",
       "      <td>231.10</td>\n",
       "      <td>233.80</td>\n",
       "      <td>233.25</td>\n",
       "      <td>5082859</td>\n",
       "      <td>11859.95</td>\n",
       "    </tr>\n",
       "    <tr>\n",
       "      <th>2</th>\n",
       "      <td>2018-09-26</td>\n",
       "      <td>240.00</td>\n",
       "      <td>240.00</td>\n",
       "      <td>232.50</td>\n",
       "      <td>235.00</td>\n",
       "      <td>234.25</td>\n",
       "      <td>2240909</td>\n",
       "      <td>5248.60</td>\n",
       "    </tr>\n",
       "    <tr>\n",
       "      <th>3</th>\n",
       "      <td>2018-09-25</td>\n",
       "      <td>233.30</td>\n",
       "      <td>236.75</td>\n",
       "      <td>232.00</td>\n",
       "      <td>236.25</td>\n",
       "      <td>236.10</td>\n",
       "      <td>2349368</td>\n",
       "      <td>5503.90</td>\n",
       "    </tr>\n",
       "    <tr>\n",
       "      <th>4</th>\n",
       "      <td>2018-09-24</td>\n",
       "      <td>233.55</td>\n",
       "      <td>239.20</td>\n",
       "      <td>230.75</td>\n",
       "      <td>234.00</td>\n",
       "      <td>233.30</td>\n",
       "      <td>3423509</td>\n",
       "      <td>7999.55</td>\n",
       "    </tr>\n",
       "  </tbody>\n",
       "</table>\n",
       "</div>"
      ],
      "text/plain": [
       "         Date    Open    High     Low    Last   Close  Total Trade Quantity  \\\n",
       "0  2018-09-28  234.05  235.95  230.20  233.50  233.75               3069914   \n",
       "1  2018-09-27  234.55  236.80  231.10  233.80  233.25               5082859   \n",
       "2  2018-09-26  240.00  240.00  232.50  235.00  234.25               2240909   \n",
       "3  2018-09-25  233.30  236.75  232.00  236.25  236.10               2349368   \n",
       "4  2018-09-24  233.55  239.20  230.75  234.00  233.30               3423509   \n",
       "\n",
       "   Turnover (Lacs)  \n",
       "0          7162.35  \n",
       "1         11859.95  \n",
       "2          5248.60  \n",
       "3          5503.90  \n",
       "4          7999.55  "
      ]
     },
     "execution_count": 50,
     "metadata": {},
     "output_type": "execute_result"
    }
   ],
   "source": [
    "dataset_train.head()\n"
   ]
  },
  {
   "cell_type": "markdown",
   "id": "eb5bceff",
   "metadata": {},
   "source": [
    "# Data Normalization\n"
   ]
  },
  {
   "cell_type": "code",
   "execution_count": 51,
   "id": "3d3ce275",
   "metadata": {},
   "outputs": [],
   "source": [
    "\n",
    "from sklearn.preprocessing import MinMaxScaler\n",
    "sc = MinMaxScaler(feature_range=(0,1))\n",
    "training_set_scaled = sc.fit_transform(training_set)"
   ]
  },
  {
   "cell_type": "markdown",
   "id": "7a9e7ee5",
   "metadata": {},
   "source": [
    "# Incorporating Timesteps Into Data\n"
   ]
  },
  {
   "cell_type": "code",
   "execution_count": 52,
   "id": "e87b3827",
   "metadata": {},
   "outputs": [],
   "source": [
    "X_train = []\n",
    "y_train = []\n",
    "for i in range(60, 2035):\n",
    "    X_train.append(training_set_scaled[i-60:i, 0])\n",
    "    y_train.append(training_set_scaled[i, 0])\n",
    "X_train, y_train = np.array(X_train), np.array(y_train)\n",
    "X_train = np.reshape(X_train, (X_train.shape[0], X_train.shape[1], 1))"
   ]
  },
  {
   "cell_type": "markdown",
   "id": "dc03df0c",
   "metadata": {},
   "source": [
    "# Creating the LSTM Model\n"
   ]
  },
  {
   "cell_type": "code",
   "execution_count": 53,
   "id": "19741c3d",
   "metadata": {},
   "outputs": [],
   "source": [
    "from keras.models import Sequential\n",
    "from keras.layers import LSTM\n",
    "from keras.layers import Dropout\n",
    "from keras.layers import Dense"
   ]
  },
  {
   "cell_type": "code",
   "execution_count": 54,
   "id": "586e7b49",
   "metadata": {},
   "outputs": [
    {
     "name": "stdout",
     "output_type": "stream",
     "text": [
      "Epoch 1/100\n",
      "62/62 [==============================] - 11s 74ms/step - loss: 0.0092\n",
      "Epoch 2/100\n",
      "62/62 [==============================] - 5s 74ms/step - loss: 0.0034\n",
      "Epoch 3/100\n",
      "62/62 [==============================] - 5s 75ms/step - loss: 0.0029\n",
      "Epoch 4/100\n",
      "62/62 [==============================] - 5s 75ms/step - loss: 0.0024\n",
      "Epoch 5/100\n",
      "62/62 [==============================] - 5s 75ms/step - loss: 0.0030\n",
      "Epoch 6/100\n",
      "62/62 [==============================] - 5s 76ms/step - loss: 0.0023\n",
      "Epoch 7/100\n",
      "62/62 [==============================] - 5s 76ms/step - loss: 0.0022\n",
      "Epoch 8/100\n",
      "62/62 [==============================] - 5s 75ms/step - loss: 0.0023\n",
      "Epoch 9/100\n",
      "62/62 [==============================] - 5s 78ms/step - loss: 0.0019\n",
      "Epoch 10/100\n",
      "62/62 [==============================] - 5s 78ms/step - loss: 0.0020\n",
      "Epoch 11/100\n",
      "62/62 [==============================] - 5s 79ms/step - loss: 0.0018\n",
      "Epoch 12/100\n",
      "62/62 [==============================] - 5s 80ms/step - loss: 0.0018\n",
      "Epoch 13/100\n",
      "62/62 [==============================] - 5s 84ms/step - loss: 0.0017\n",
      "Epoch 14/100\n",
      "62/62 [==============================] - 5s 82ms/step - loss: 0.0018\n",
      "Epoch 15/100\n",
      "62/62 [==============================] - 5s 84ms/step - loss: 0.0017\n",
      "Epoch 16/100\n",
      "62/62 [==============================] - 6s 99ms/step - loss: 0.0015\n",
      "Epoch 17/100\n",
      "62/62 [==============================] - 5s 88ms/step - loss: 0.0018\n",
      "Epoch 18/100\n",
      "62/62 [==============================] - 5s 88ms/step - loss: 0.0016\n",
      "Epoch 19/100\n",
      "62/62 [==============================] - 5s 86ms/step - loss: 0.0016\n",
      "Epoch 20/100\n",
      "62/62 [==============================] - 5s 84ms/step - loss: 0.0014\n",
      "Epoch 21/100\n",
      "62/62 [==============================] - 7s 106ms/step - loss: 0.0015\n",
      "Epoch 22/100\n",
      "62/62 [==============================] - 8s 123ms/step - loss: 0.0013\n",
      "Epoch 23/100\n",
      "62/62 [==============================] - 8s 130ms/step - loss: 0.0015\n",
      "Epoch 24/100\n",
      "62/62 [==============================] - 8s 132ms/step - loss: 0.0014\n",
      "Epoch 25/100\n",
      "62/62 [==============================] - 8s 127ms/step - loss: 0.0012\n",
      "Epoch 26/100\n",
      "62/62 [==============================] - 6s 102ms/step - loss: 0.0014\n",
      "Epoch 27/100\n",
      "62/62 [==============================] - 6s 95ms/step - loss: 0.0013\n",
      "Epoch 28/100\n",
      "62/62 [==============================] - 6s 104ms/step - loss: 0.0012\n",
      "Epoch 29/100\n",
      "62/62 [==============================] - 5s 83ms/step - loss: 0.0012\n",
      "Epoch 30/100\n",
      "62/62 [==============================] - 5s 85ms/step - loss: 0.0013\n",
      "Epoch 31/100\n",
      "62/62 [==============================] - 5s 85ms/step - loss: 0.0011\n",
      "Epoch 32/100\n",
      "62/62 [==============================] - 5s 85ms/step - loss: 0.0011\n",
      "Epoch 33/100\n",
      "62/62 [==============================] - 5s 84ms/step - loss: 0.0011\n",
      "Epoch 34/100\n",
      "62/62 [==============================] - 5s 86ms/step - loss: 9.3140e-04\n",
      "Epoch 35/100\n",
      "62/62 [==============================] - 6s 91ms/step - loss: 9.9053e-04\n",
      "Epoch 36/100\n",
      "62/62 [==============================] - 6s 92ms/step - loss: 9.5939e-04\n",
      "Epoch 37/100\n",
      "62/62 [==============================] - 6s 90ms/step - loss: 9.7214e-04\n",
      "Epoch 38/100\n",
      "62/62 [==============================] - 6s 89ms/step - loss: 9.4239e-04\n",
      "Epoch 39/100\n",
      "62/62 [==============================] - 6s 95ms/step - loss: 0.0010\n",
      "Epoch 40/100\n",
      "62/62 [==============================] - 6s 89ms/step - loss: 8.9447e-04\n",
      "Epoch 41/100\n",
      "62/62 [==============================] - 6s 90ms/step - loss: 9.7925e-04\n",
      "Epoch 42/100\n",
      "62/62 [==============================] - 6s 93ms/step - loss: 9.5334e-04\n",
      "Epoch 43/100\n",
      "62/62 [==============================] - 5s 87ms/step - loss: 8.6178e-04\n",
      "Epoch 44/100\n",
      "62/62 [==============================] - 5s 88ms/step - loss: 9.3793e-04\n",
      "Epoch 45/100\n",
      "62/62 [==============================] - 5s 88ms/step - loss: 9.6693e-04\n",
      "Epoch 46/100\n",
      "62/62 [==============================] - 5s 85ms/step - loss: 9.6512e-04\n",
      "Epoch 47/100\n",
      "62/62 [==============================] - 5s 85ms/step - loss: 9.8980e-04\n",
      "Epoch 48/100\n",
      "62/62 [==============================] - 5s 82ms/step - loss: 8.7134e-04\n",
      "Epoch 49/100\n",
      "62/62 [==============================] - 5s 88ms/step - loss: 7.9518e-04\n",
      "Epoch 50/100\n",
      "62/62 [==============================] - 5s 83ms/step - loss: 7.6972e-04\n",
      "Epoch 51/100\n",
      "62/62 [==============================] - 5s 84ms/step - loss: 8.4833e-04\n",
      "Epoch 52/100\n",
      "62/62 [==============================] - 5s 86ms/step - loss: 8.3133e-04\n",
      "Epoch 53/100\n",
      "62/62 [==============================] - 5s 83ms/step - loss: 8.2887e-04\n",
      "Epoch 54/100\n",
      "62/62 [==============================] - 5s 84ms/step - loss: 8.3956e-04\n",
      "Epoch 55/100\n",
      "62/62 [==============================] - 5s 83ms/step - loss: 8.6341e-04\n",
      "Epoch 56/100\n",
      "62/62 [==============================] - 5s 84ms/step - loss: 8.4859e-04\n",
      "Epoch 57/100\n",
      "62/62 [==============================] - 5s 83ms/step - loss: 8.0483e-04\n",
      "Epoch 58/100\n",
      "62/62 [==============================] - 6s 96ms/step - loss: 6.9959e-04\n",
      "Epoch 59/100\n",
      "62/62 [==============================] - 11s 175ms/step - loss: 6.8207e-04\n",
      "Epoch 60/100\n",
      "62/62 [==============================] - 9s 142ms/step - loss: 6.9545e-04\n",
      "Epoch 61/100\n",
      "62/62 [==============================] - 8s 130ms/step - loss: 7.3065e-04\n",
      "Epoch 62/100\n",
      "62/62 [==============================] - 8s 137ms/step - loss: 7.8622e-04\n",
      "Epoch 63/100\n",
      "62/62 [==============================] - 9s 139ms/step - loss: 6.5651e-04\n",
      "Epoch 64/100\n",
      "62/62 [==============================] - 8s 135ms/step - loss: 6.9023e-04\n",
      "Epoch 65/100\n",
      "62/62 [==============================] - 8s 135ms/step - loss: 7.7760e-04\n",
      "Epoch 66/100\n",
      "62/62 [==============================] - 8s 135ms/step - loss: 8.4020e-04\n",
      "Epoch 67/100\n",
      "62/62 [==============================] - 8s 135ms/step - loss: 8.0923e-04\n",
      "Epoch 68/100\n",
      "62/62 [==============================] - 10s 154ms/step - loss: 7.5619e-04\n",
      "Epoch 69/100\n",
      "62/62 [==============================] - 10s 161ms/step - loss: 7.2100e-04\n",
      "Epoch 70/100\n",
      "62/62 [==============================] - 10s 158ms/step - loss: 7.7086e-04\n",
      "Epoch 71/100\n",
      "62/62 [==============================] - 10s 163ms/step - loss: 6.8741e-04\n",
      "Epoch 72/100\n",
      "62/62 [==============================] - 9s 146ms/step - loss: 7.3362e-04\n",
      "Epoch 73/100\n",
      "62/62 [==============================] - 9s 139ms/step - loss: 6.3454e-04\n",
      "Epoch 74/100\n",
      "62/62 [==============================] - 9s 138ms/step - loss: 6.3292e-04\n",
      "Epoch 75/100\n",
      "62/62 [==============================] - 9s 138ms/step - loss: 6.9566e-04\n",
      "Epoch 76/100\n",
      "62/62 [==============================] - 9s 139ms/step - loss: 6.2695e-04\n",
      "Epoch 77/100\n",
      "62/62 [==============================] - 9s 142ms/step - loss: 8.2294e-04\n",
      "Epoch 78/100\n",
      "62/62 [==============================] - 9s 144ms/step - loss: 7.0380e-04\n",
      "Epoch 79/100\n",
      "62/62 [==============================] - 9s 144ms/step - loss: 7.7144e-04\n",
      "Epoch 80/100\n",
      "62/62 [==============================] - 9s 137ms/step - loss: 7.4697e-04\n",
      "Epoch 81/100\n",
      "62/62 [==============================] - 10s 153ms/step - loss: 6.9035e-04\n",
      "Epoch 82/100\n",
      "62/62 [==============================] - 9s 142ms/step - loss: 6.3416e-04\n",
      "Epoch 83/100\n",
      "62/62 [==============================] - 9s 141ms/step - loss: 6.5154e-04\n",
      "Epoch 84/100\n",
      "62/62 [==============================] - 9s 152ms/step - loss: 6.8932e-04\n",
      "Epoch 85/100\n",
      "62/62 [==============================] - 9s 151ms/step - loss: 6.4598e-04\n",
      "Epoch 86/100\n",
      "62/62 [==============================] - 10s 158ms/step - loss: 6.0183e-04\n",
      "Epoch 87/100\n",
      "62/62 [==============================] - 9s 142ms/step - loss: 7.4351e-04\n",
      "Epoch 88/100\n",
      "62/62 [==============================] - 8s 132ms/step - loss: 6.6951e-04\n",
      "Epoch 89/100\n",
      "62/62 [==============================] - 8s 133ms/step - loss: 7.2386e-04\n",
      "Epoch 90/100\n",
      "62/62 [==============================] - 9s 139ms/step - loss: 6.1544e-04\n",
      "Epoch 91/100\n",
      "62/62 [==============================] - 8s 134ms/step - loss: 5.7757e-04\n",
      "Epoch 92/100\n",
      "62/62 [==============================] - 8s 137ms/step - loss: 6.2720e-04\n",
      "Epoch 93/100\n",
      "62/62 [==============================] - 8s 137ms/step - loss: 7.1932e-04\n",
      "Epoch 94/100\n",
      "62/62 [==============================] - 8s 132ms/step - loss: 6.4989e-04\n",
      "Epoch 95/100\n",
      "62/62 [==============================] - 9s 144ms/step - loss: 5.6196e-04\n",
      "Epoch 96/100\n",
      "62/62 [==============================] - 8s 134ms/step - loss: 5.9380e-04\n",
      "Epoch 97/100\n",
      "62/62 [==============================] - 9s 138ms/step - loss: 6.0026e-04\n",
      "Epoch 98/100\n",
      "62/62 [==============================] - 8s 132ms/step - loss: 7.0093e-04\n",
      "Epoch 99/100\n",
      "62/62 [==============================] - 8s 131ms/step - loss: 7.1971e-04\n",
      "Epoch 100/100\n",
      "62/62 [==============================] - 8s 135ms/step - loss: 7.9369e-04\n"
     ]
    },
    {
     "data": {
      "text/plain": [
       "<keras.callbacks.History at 0x22c52209580>"
      ]
     },
     "execution_count": 54,
     "metadata": {},
     "output_type": "execute_result"
    }
   ],
   "source": [
    "model = Sequential()\n",
    "model.add(LSTM(units=50,return_sequences=True,input_shape=(X_train.shape[1], 1)))\n",
    "model.add(Dropout(0.2))\n",
    "model.add(LSTM(units=50,return_sequences=True))\n",
    "model.add(Dropout(0.2))\n",
    "model.add(LSTM(units=50,return_sequences=True))\n",
    "model.add(Dropout(0.2))\n",
    "model.add(LSTM(units=50))\n",
    "model.add(Dropout(0.2))\n",
    "model.add(Dense(units=1))\n",
    "model.compile(optimizer='adam',loss='mean_squared_error')\n",
    "model.fit(X_train,y_train,epochs=100,batch_size=32)"
   ]
  },
  {
   "cell_type": "markdown",
   "id": "12effd0a",
   "metadata": {},
   "source": [
    "# Making Predictions on the Test Set\n"
   ]
  },
  {
   "cell_type": "code",
   "execution_count": 56,
   "id": "3af03fe3",
   "metadata": {},
   "outputs": [],
   "source": [
    "url = 'https://raw.githubusercontent.com/mwitiderrick/stockprice/master/tatatest.csv'\n",
    "dataset_test = pd.read_csv(url)\n",
    "real_stock_price = dataset_test.iloc[:, 1:2].values"
   ]
  },
  {
   "cell_type": "code",
   "execution_count": 57,
   "id": "dd91d1cc",
   "metadata": {},
   "outputs": [
    {
     "name": "stdout",
     "output_type": "stream",
     "text": [
      "1/1 [==============================] - 3s 3s/step\n"
     ]
    }
   ],
   "source": [
    "dataset_total = pd.concat((dataset_train['Open'], dataset_test['Open']), axis=0)\n",
    "inputs = dataset_total[len(dataset_total) - len(dataset_test) - 60:].values\n",
    "inputs = inputs.reshape(-1, 1)\n",
    "inputs = sc.transform(inputs)\n",
    "X_test = []\n",
    "\n",
    "for i in range(60, 76):\n",
    "    X_test.append(inputs[i - 60:i, 0])\n",
    "\n",
    "X_test = np.array(X_test)\n",
    "X_test = np.reshape(X_test, (X_test.shape[0], X_test.shape[1], 1))\n",
    "predicted_stock_price = model.predict(X_test)\n",
    "predicted_stock_price = sc.inverse_transform(predicted_stock_price)\n"
   ]
  },
  {
   "cell_type": "markdown",
   "id": "89ef334d",
   "metadata": {},
   "source": [
    "# Plotting the Results\n"
   ]
  },
  {
   "cell_type": "code",
   "execution_count": 58,
   "id": "ba732680",
   "metadata": {},
   "outputs": [
    {
     "data": {
      "image/png": "[encoded data removed]",
      "text/plain": [
       "<Figure size 640x480 with 1 Axes>"
      ]
     },
     "metadata": {},
     "output_type": "display_data"
    }
   ],
   "source": [
    "plt.plot(real_stock_price, color = 'black', label = 'TATA Stock Price')\n",
    "plt.plot(predicted_stock_price, color = 'green', label = 'Predicted TATA Stock Price')\n",
    "plt.title('TATA Stock Price Prediction')\n",
    "plt.xlabel('Time')\n",
    "plt.ylabel('TATA Stock Price')\n",
    "plt.legend()\n",
    "plt.show()"
   ]
  }
 ],
 "metadata": {
  "kernelspec": {
   "display_name": "Python 3 (ipykernel)",
   "language": "python",
   "name": "python3"
  },
  "language_info": {
   "codemirror_mode": {
    "name": "ipython",
    "version": 3
   },
   "file_extension": ".py",
   "mimetype": "text/x-python",
   "name": "python",
   "nbconvert_exporter": "python",
   "pygments_lexer": "ipython3",
   "version": "3.9.13"
  }
 },
 "nbformat": 4,
 "nbformat_minor": 5
}
